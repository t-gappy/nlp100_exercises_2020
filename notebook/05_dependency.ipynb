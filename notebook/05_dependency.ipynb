{
 "cells": [
  {
   "cell_type": "markdown",
   "metadata": {},
   "source": [
    "# 第5章: 係り受け解析"
   ]
  },
  {
   "cell_type": "code",
   "execution_count": 1,
   "metadata": {},
   "outputs": [],
   "source": [
    "import re\n",
    "import CaboCha"
   ]
  },
  {
   "cell_type": "code",
   "execution_count": 2,
   "metadata": {},
   "outputs": [],
   "source": [
    "cabocha = CaboCha.Parser()\n",
    "space_pattern = re.compile(r'\\u3000')\n",
    "chapter_pattern = re.compile(r'([\\n|\\r\\n|\\r]|(?<=^))([一二三四五六七八九十]+)[\\n|\\r\\n|\\r]')\n",
    "\n",
    "with open(\"../data/neko.txt\") as fr,\\\n",
    "     open(\"../data/neko.txt.cabocha\", \"w\") as fw:\n",
    "    text = fr.read()\n",
    "    text = re.sub(space_pattern, '', text)\n",
    "    text = re.sub(chapter_pattern, '', text)\n",
    "    \n",
    "    for sentence in text.split('。'):\n",
    "        sentence = sentence + '。'\n",
    "        tree = cabocha.parse(sentence)\n",
    "        print(tree.toString(CaboCha.FORMAT_LATTICE), file=fw)"
   ]
  },
  {
   "cell_type": "markdown",
   "metadata": {},
   "source": [
    "## 40. 係り受け解析結果の読み込み（形態素）"
   ]
  },
  {
   "cell_type": "code",
   "execution_count": 3,
   "metadata": {},
   "outputs": [],
   "source": [
    "class Morph(object):\n",
    "    def __init__(self, surface, base, pos, pos1):\n",
    "        self.surface = surface\n",
    "        self.base = base\n",
    "        self.pos = pos\n",
    "        self.pos1 = pos1\n",
    "        self.info = {\n",
    "            'surface': self.surface,\n",
    "            'base': self.base,\n",
    "            'pos': self.pos,\n",
    "            'pos1': self.pos1,\n",
    "        }\n",
    "    \n",
    "    def as_dict(self):\n",
    "        return self.info\n",
    "    \n",
    "    def __str__(self):\n",
    "        return str(self.info)\n",
    "    \n",
    "    def __repr__(self):\n",
    "        return str(self.info)\n",
    "    \n",
    "    def __getitem__(self, key):\n",
    "        return self.info[key]"
   ]
  },
  {
   "cell_type": "code",
   "execution_count": 4,
   "metadata": {},
   "outputs": [],
   "source": [
    "neko_morphs = []\n",
    "with open('../data/neko.txt.cabocha') as fr:\n",
    "    sentence_morphs = []\n",
    "    for line in fr:\n",
    "        line = line.rstrip()\n",
    "        \n",
    "        if line == 'EOS':\n",
    "            neko_morphs.append(sentence_morphs)\n",
    "            sentence_morphs = []\n",
    "            continue\n",
    "        \n",
    "        if len(line) == 0\\\n",
    "        or line[0] == '*':\n",
    "            continue\n",
    "        \n",
    "        m = re.split('[\\t,]', line)\n",
    "        m = Morph(m[0], m[-3], m[1], m[2])\n",
    "        sentence_morphs.append(m)"
   ]
  },
  {
   "cell_type": "code",
   "execution_count": 5,
   "metadata": {},
   "outputs": [
    {
     "data": {
      "text/plain": [
       "[{'surface': 'どこ', 'base': 'どこ', 'pos': '名詞', 'pos1': '代名詞'},\n",
       " {'surface': 'で', 'base': 'で', 'pos': '助詞', 'pos1': '格助詞'},\n",
       " {'surface': '生れ', 'base': '生れる', 'pos': '動詞', 'pos1': '自立'},\n",
       " {'surface': 'た', 'base': 'た', 'pos': '助動詞', 'pos1': '*'},\n",
       " {'surface': 'か', 'base': 'か', 'pos': '助詞', 'pos1': '副助詞／並立助詞／終助詞'},\n",
       " {'surface': 'とんと', 'base': 'とんと', 'pos': '副詞', 'pos1': '一般'},\n",
       " {'surface': '見当', 'base': '見当', 'pos': '名詞', 'pos1': 'サ変接続'},\n",
       " {'surface': 'が', 'base': 'が', 'pos': '助詞', 'pos1': '格助詞'},\n",
       " {'surface': 'つか', 'base': 'つく', 'pos': '動詞', 'pos1': '自立'},\n",
       " {'surface': 'ぬ', 'base': 'ぬ', 'pos': '助動詞', 'pos1': '*'},\n",
       " {'surface': '。', 'base': '。', 'pos': '記号', 'pos1': '句点'}]"
      ]
     },
     "execution_count": 5,
     "metadata": {},
     "output_type": "execute_result"
    }
   ],
   "source": [
    "neko_morphs[2]"
   ]
  },
  {
   "cell_type": "markdown",
   "metadata": {},
   "source": [
    "## 41. 係り受け解析結果の読み込み（文節・係り受け）"
   ]
  },
  {
   "cell_type": "code",
   "execution_count": 6,
   "metadata": {},
   "outputs": [],
   "source": [
    "class Chunk(object):\n",
    "    def __init__(self, dst):\n",
    "        self.morphs = []\n",
    "        self.dst = dst\n",
    "        self.srcs = []\n",
    "        self.info = {\n",
    "            'morphs': self.morphs,\n",
    "            'dst': self.dst,\n",
    "            'srcs': self.srcs,\n",
    "        }\n",
    "        \n",
    "    def get_text(self, ignore_kv=None):\n",
    "        if ignore_kv:\n",
    "            k, v = ignore_kv\n",
    "            return ''.join([\n",
    "                m['surface'] for m in self.morphs\n",
    "                if m[k] != v\n",
    "            ])\n",
    "        else:\n",
    "            return ''.join([\n",
    "                m['surface'] for m in self.morphs\n",
    "            ])\n",
    "        \n",
    "    def search_kv(self, kv, get_id=False):\n",
    "        k, v = kv\n",
    "        if get_id:\n",
    "            result = [\n",
    "                i for i, m in enumerate(self.morphs)\n",
    "                if m[k] == v\n",
    "            ]\n",
    "        else:\n",
    "            result = [\n",
    "                m for m in self.morphs\n",
    "                if m[k] == v\n",
    "            ]\n",
    "        if len(result) == 0:\n",
    "            return None\n",
    "        else:\n",
    "            return result\n",
    "    \n",
    "    def as_dict(self):\n",
    "        return self.info\n",
    "    \n",
    "    def __str__(self):\n",
    "        return str(self.info)\n",
    "    \n",
    "    def __repr__(self):\n",
    "        return str(self.info)\n",
    "    \n",
    "    def __len__(self):\n",
    "        return len(self.morphs)\n",
    "    \n",
    "    def __getitem__(self, key):\n",
    "        return self.info[key]\n",
    "    \n",
    "    def get_idx(self, idx):\n",
    "        return self.morphs[idx]"
   ]
  },
  {
   "cell_type": "code",
   "execution_count": 7,
   "metadata": {},
   "outputs": [],
   "source": [
    "neko_chunks = []\n",
    "with open(\"../data/neko.txt.cabocha\") as fr:\n",
    "    sentence_chunks = []\n",
    "    id_to_srcs = {}\n",
    "    \n",
    "    for line in fr:\n",
    "        line = line.rstrip()\n",
    "        if len(line) == 0:\n",
    "            continue\n",
    "        \n",
    "        elif line == \"EOS\":\n",
    "            for chunk_id, srcs in id_to_srcs.items():\n",
    "                if chunk_id == -1:\n",
    "                    continue\n",
    "                sentence_chunks[chunk_id].srcs += srcs\n",
    "            neko_chunks.append(sentence_chunks)\n",
    "            sentence_chunks = []\n",
    "            id_to_srcs = {}\n",
    "            \n",
    "        elif line[0] == \"*\":\n",
    "            line = line.split()\n",
    "            chunk_id = int(line[1])\n",
    "            dst = int(line[2][:-1])\n",
    "            \n",
    "            sentence_chunks.append(Chunk(dst))\n",
    "            \n",
    "            if dst in id_to_srcs.keys():\n",
    "                id_to_srcs[dst].append(chunk_id)\n",
    "            else:\n",
    "                id_to_srcs[dst] = [chunk_id]\n",
    "        \n",
    "        else:\n",
    "            m = re.split('[\\t,]', line)\n",
    "            m = Morph(m[0], m[-3], m[1], m[2])\n",
    "            sentence_chunks[-1].morphs.append(m)"
   ]
  },
  {
   "cell_type": "code",
   "execution_count": 8,
   "metadata": {},
   "outputs": [
    {
     "name": "stdout",
     "output_type": "stream",
     "text": [
      "しかし 9\n",
      "その 2\n",
      "当時は 5\n",
      "何という 4\n",
      "考も 5\n",
      "なかったから 9\n",
      "別段 7\n",
      "恐し 9\n",
      "いとも 9\n",
      "思わなかった。 -1\n"
     ]
    }
   ],
   "source": [
    "for c in neko_chunks[7]:\n",
    "    print(c.get_text(), c.dst)"
   ]
  },
  {
   "cell_type": "markdown",
   "metadata": {},
   "source": [
    "## 42. 係り元と係り先の文節の表示"
   ]
  },
  {
   "cell_type": "code",
   "execution_count": 9,
   "metadata": {},
   "outputs": [],
   "source": [
    "all_dependencies = []\n",
    "for sentence_chunks in neko_chunks:\n",
    "    for c in sentence_chunks:\n",
    "        if c['dst'] == -1:\n",
    "            continue\n",
    "        src = c.get_text(ignore_kv=('pos', '記号'))\n",
    "        dst = sentence_chunks[c['dst']].get_text(ignore_kv=('pos', '記号'))\n",
    "        src_dst = src + '\\t' + dst\n",
    "        all_dependencies.append(src_dst)"
   ]
  },
  {
   "cell_type": "code",
   "execution_count": 10,
   "metadata": {},
   "outputs": [
    {
     "name": "stdout",
     "output_type": "stream",
     "text": [
      "73144\n",
      "吾輩は\t猫である\n",
      "名前は\t無い\n",
      "まだ\t無い\n",
      "どこで\t生れたか\n",
      "生れたか\tつかぬ\n",
      "とんと\tつかぬ\n",
      "見当が\tつかぬ\n",
      "何でも\t薄暗い\n",
      "薄暗い\t所で\n",
      "じめじめした\t所で\n",
      "所で\t泣いて\n",
      "ニャーニャー\t泣いて\n",
      "泣いて\t記憶している\n",
      "いた事だけは\t記憶している\n",
      "吾輩は\t見た\n",
      "ここで\t始めて\n",
      "始めて\t人間という\n",
      "人間という\tものを\n",
      "ものを\t見た\n",
      "しかも\t種族であったそうだ\n"
     ]
    }
   ],
   "source": [
    "print(len(all_dependencies))\n",
    "print('\\n'.join(all_dependencies[:20]))"
   ]
  },
  {
   "cell_type": "markdown",
   "metadata": {},
   "source": [
    "## 43. 名詞を含む文節が動詞を含む文節に係るものを抽出"
   ]
  },
  {
   "cell_type": "code",
   "execution_count": 11,
   "metadata": {},
   "outputs": [],
   "source": [
    "nv_dependencies = []\n",
    "for sentence_chunks in neko_chunks:\n",
    "    for c in sentence_chunks:\n",
    "        if c['dst'] == -1:\n",
    "            continue\n",
    "        \n",
    "        if c.search_kv(('pos', '名詞')):\n",
    "            dst_chunk = sentence_chunks[c['dst']]\n",
    "            \n",
    "            if dst_chunk.search_kv(('pos', '動詞')):\n",
    "                src = c.get_text(ignore_kv=('pos', '記号'))\n",
    "                dst = dst_chunk.get_text(ignore_kv=('pos', '記号'))\n",
    "                src_and_dst = src + '\\t' + dst\n",
    "                nv_dependencies.append(src_and_dst)"
   ]
  },
  {
   "cell_type": "code",
   "execution_count": 12,
   "metadata": {},
   "outputs": [
    {
     "name": "stdout",
     "output_type": "stream",
     "text": [
      "29528\n",
      "どこで\t生れたか\n",
      "見当が\tつかぬ\n",
      "所で\t泣いて\n",
      "ニャーニャー\t泣いて\n",
      "いた事だけは\t記憶している\n",
      "吾輩は\t見た\n",
      "ここで\t始めて\n",
      "ものを\t見た\n",
      "あとで\t聞くと\n",
      "我々を\t捕えて\n",
      "掌に\t載せられて\n",
      "スーと\t持ち上げられた\n",
      "時\tフワフワした\n",
      "感じが\tあったばかりである\n",
      "上で\t落ちついて\n",
      "顔を\t見たのが\n",
      "ものの\t見始であろう\n",
      "ものだと\t思った\n",
      "感じが\t残っている\n",
      "今でも\t残っている\n"
     ]
    }
   ],
   "source": [
    "print(len(nv_dependencies))\n",
    "print('\\n'.join(nv_dependencies[:20]))"
   ]
  },
  {
   "cell_type": "markdown",
   "metadata": {},
   "source": [
    "## 44. 係り受け木の可視化"
   ]
  },
  {
   "cell_type": "code",
   "execution_count": 13,
   "metadata": {},
   "outputs": [],
   "source": [
    "import graphviz\n",
    "from PIL import Image\n",
    "import matplotlib.pyplot as plt"
   ]
  },
  {
   "cell_type": "code",
   "execution_count": 14,
   "metadata": {},
   "outputs": [],
   "source": [
    "def make_dependency_graph(sentence_chunks):\n",
    "    G = graphviz.Digraph(format='png')\n",
    "    G.attr('node', shape='box')\n",
    "    \n",
    "    for c in sentence_chunks:\n",
    "        dst_num = c['dst']\n",
    "        if dst_num == -1:\n",
    "            continue\n",
    "        \n",
    "        src = c.get_text(ignore_kv=('pos', '記号'))\n",
    "        dst = sentence_chunks[dst_num].get_text(ignore_kv=('pos', '記号'))\n",
    "        G.edge(src, dst)\n",
    "    \n",
    "    return G"
   ]
  },
  {
   "cell_type": "code",
   "execution_count": 15,
   "metadata": {},
   "outputs": [
    {
     "name": "stdout",
     "output_type": "stream",
     "text": [
      "digraph {\n",
      "\tnode [shape=box]\n",
      "\t\"しかも\" -> \"種族であったそうだ\"\n",
      "\t\"あとで\" -> \"聞くと\"\n",
      "\t\"聞くと\" -> \"種族であったそうだ\"\n",
      "\t\"それは\" -> \"種族であったそうだ\"\n",
      "\t\"書生という\" -> \"人間中で\"\n",
      "\t\"人間中で\" -> \"種族であったそうだ\"\n",
      "\t\"一番\" -> \"獰悪な\"\n",
      "\t\"獰悪な\" -> \"種族であったそうだ\"\n",
      "}\n"
     ]
    },
    {
     "data": {
      "image/png": "[encoded data removed]",
      "text/plain": [
       "<Figure size 576x576 with 1 Axes>"
      ]
     },
     "metadata": {
      "needs_background": "light"
     },
     "output_type": "display_data"
    }
   ],
   "source": [
    "G = make_dependency_graph(neko_chunks[5])\n",
    "print(G)\n",
    "G.render('../data/dependency')\n",
    "img = Image.open('../data/dependency.png')\n",
    "plt.figure(figsize=(8, 8))\n",
    "plt.imshow(img)\n",
    "plt.show()"
   ]
  },
  {
   "cell_type": "markdown",
   "metadata": {},
   "source": [
    "## 45. 動詞の格パターンの抽出"
   ]
  },
  {
   "cell_type": "code",
   "execution_count": 16,
   "metadata": {},
   "outputs": [],
   "source": [
    "def get_case_pattern(sentence_chunks):\n",
    "    verb_to_cases = {}\n",
    "    for c in sentence_chunks:\n",
    "        dst_num = c['dst']\n",
    "        if dst_num == -1:\n",
    "            continue\n",
    "        \n",
    "        dst_chunk = sentence_chunks[dst_num]\n",
    "        verb_morphs = dst_chunk.search_kv(('pos', '動詞'))\n",
    "        case_morphs = c.search_kv(('pos', '助詞'))\n",
    "        \n",
    "        if case_morphs and verb_morphs:\n",
    "            c = case_morphs[-1]['base']\n",
    "            v = verb_morphs[0]['base']\n",
    "            if v in verb_to_cases.keys():\n",
    "                verb_to_cases[v].append(c)\n",
    "            else:\n",
    "                verb_to_cases[v] = [c]\n",
    "    \n",
    "    return verb_to_cases"
   ]
  },
  {
   "cell_type": "code",
   "execution_count": 17,
   "metadata": {},
   "outputs": [
    {
     "name": "stdout",
     "output_type": "stream",
     "text": [
      "見る\tは を\n",
      "==============================\n",
      "始める\tで\n",
      "==============================\n"
     ]
    }
   ],
   "source": [
    "v2cs = get_case_pattern(neko_chunks[4])\n",
    "for k, v in v2cs.items():\n",
    "    print(k + '\\t' + ' '.join(v))\n",
    "    print(\"=\"*30)"
   ]
  },
  {
   "cell_type": "markdown",
   "metadata": {},
   "source": [
    "## 46. 動詞の格フレーム情報の抽出"
   ]
  },
  {
   "cell_type": "code",
   "execution_count": 18,
   "metadata": {},
   "outputs": [],
   "source": [
    "def get_case_frames(sentence_chunks):\n",
    "    verb_to_cases = {}\n",
    "    for c in sentence_chunks:\n",
    "        dst_num = c['dst']\n",
    "        if dst_num == -1:\n",
    "            continue\n",
    "        \n",
    "        dst_chunk = sentence_chunks[dst_num]\n",
    "        verb_morphs = dst_chunk.search_kv(('pos', '動詞'))\n",
    "        case_morphs = c.search_kv(('pos', '助詞'))\n",
    "        \n",
    "        if case_morphs and verb_morphs:\n",
    "            case = case_morphs[-1]['base']\n",
    "            verb = verb_morphs[0]['base']\n",
    "            \n",
    "            particle_phrase = c.get_text(ignore_kv=('pos', '記号'))\n",
    "            case_frame = (case, particle_phrase)\n",
    "\n",
    "            if verb in verb_to_cases.keys():\n",
    "                verb_to_cases[verb].append(case_frame)\n",
    "            else:\n",
    "                verb_to_cases[verb] = [case_frame]\n",
    "    \n",
    "    return verb_to_cases"
   ]
  },
  {
   "cell_type": "code",
   "execution_count": 19,
   "metadata": {},
   "outputs": [
    {
     "name": "stdout",
     "output_type": "stream",
     "text": [
      "見る\tは を\t吾輩は ものを\n",
      "始める\tで\tここで\n"
     ]
    }
   ],
   "source": [
    "v2cs = get_case_frames(neko_chunks[4])\n",
    "for k, v in v2cs.items():\n",
    "    v_case = ' '.join([tup[0] for tup in v])\n",
    "    v_phrase = ' '.join([tup[1] for tup in v])\n",
    "    output = k + '\\t' + v_case + '\\t' + v_phrase\n",
    "    print(output)"
   ]
  },
  {
   "cell_type": "markdown",
   "metadata": {},
   "source": [
    "## 47. 機能動詞構文のマイニング"
   ]
  },
  {
   "cell_type": "code",
   "execution_count": 20,
   "metadata": {},
   "outputs": [],
   "source": [
    "def mine_functional_verbs(sentence_chunks):\n",
    "    verb_to_cases = {}\n",
    "    # search [noun + `を`] -> [verb]\n",
    "    for i, p_chunk in enumerate(sentence_chunks):\n",
    "        dst_num = p_chunk['dst']\n",
    "        if dst_num == -1:\n",
    "            continue\n",
    "        \n",
    "        dst_chunk = sentence_chunks[dst_num]\n",
    "        verbs_in_dst = dst_chunk.search_kv(('pos', '動詞'))\n",
    "        \n",
    "        # search `助詞` and `を`\n",
    "        particle_ids = p_chunk.search_kv(('pos', '助詞'), get_id=True)\n",
    "        if particle_ids is None or verbs_in_dst is None:\n",
    "            continue\n",
    "        \n",
    "        p_id = particle_ids[-1]\n",
    "        particle = p_chunk.get_idx(p_id)\n",
    "        if p_id == 0 or particle['surface'] != 'を':\n",
    "            continue\n",
    "        \n",
    "        # search `名詞` and `サ変接続`\n",
    "        pre_particle = p_chunk.get_idx(p_id-1)\n",
    "        if pre_particle['pos'] != '名詞'\\\n",
    "        or pre_particle['pos1'] != 'サ変接続':\n",
    "            continue\n",
    "        \n",
    "        # make output shape\n",
    "        src_case_and_phrase = [\n",
    "            (sentence_chunks[s].get_text(ignore_kv=('pos', '記号')),\n",
    "             sentence_chunks[s].search_kv(('pos', '助詞'))[-1]['surface'])\n",
    "            for s in dst_chunk['srcs']\n",
    "            if (s != i) and sentence_chunks[s].search_kv(('pos', '助詞'))\n",
    "        ]\n",
    "        v_text = pre_particle['surface']\\\n",
    "               + particle['surface']\\\n",
    "               + verbs_in_dst[0]['base']\n",
    "        \n",
    "        if len(src_case_and_phrase) == 0:\n",
    "            continue\n",
    "        \n",
    "        if v_text in verb_to_cases.keys():\n",
    "            verb_to_cases[v_text] += src_case_and_phrase\n",
    "        else:\n",
    "            verb_to_cases[v_text] = src_case_and_phrase\n",
    "            \n",
    "    return verb_to_cases"
   ]
  },
  {
   "cell_type": "code",
   "execution_count": 21,
   "metadata": {},
   "outputs": [
    {
     "name": "stdout",
     "output_type": "stream",
     "text": [
      "{'尽力を仰ぐ': [('やるつもりなので', 'ので'), ('ためで', 'で'), ('先生にも', 'も')]}\n",
      "{'捺印を願う': [('これへ', 'へ')]}\n",
      "{'御馳走を致す': [('東風子に', 'に')]}\n",
      "{'返事をする': [('及ばんさと', 'と'), ('主人は', 'は'), ('手紙に', 'に')]}\n",
      "{'著述を居る': [('依て', 'て'), ('此間中より', 'より')]}\n",
      "{'厚遇を受ける': [('猫が', 'が'), ('かくまで', 'まで')]}\n",
      "{'返事をする': [('下女は', 'は')]}\n",
      "{'含嗽をやる': [('毎朝風呂場で', 'で')]}\n"
     ]
    }
   ],
   "source": [
    "for i in range(800, 900):\n",
    "    v2cs = mine_functional_verbs(neko_chunks[i])\n",
    "    if len(v2cs) != 0:\n",
    "        print(v2cs)"
   ]
  },
  {
   "cell_type": "markdown",
   "metadata": {},
   "source": [
    "## 48. 名詞から根へのパスの抽出"
   ]
  },
  {
   "cell_type": "code",
   "execution_count": 22,
   "metadata": {},
   "outputs": [],
   "source": [
    "ARROW = ' -> '\n",
    "def get_path_to_root(sentence_chunks, kv=('pos', '名詞')):\n",
    "    path_to_roots = []\n",
    "    for c in sentence_chunks:\n",
    "        path_to_root = [c.get_text(ignore_kv=('pos', '記号'))]\n",
    "        if c.search_kv(kv) is None:\n",
    "            continue\n",
    "        \n",
    "        dst_num = c['dst']\n",
    "        while dst_num != -1:\n",
    "            dst_chunk = sentence_chunks[dst_num]\n",
    "            path_to_root.append(\n",
    "                sentence_chunks[dst_num].get_text(ignore_kv=('pos', '記号'))\n",
    "            )\n",
    "            dst_num = dst_chunk['dst']\n",
    "        \n",
    "        path_to_roots.append(path_to_root)\n",
    "    return path_to_roots"
   ]
  },
  {
   "cell_type": "code",
   "execution_count": 23,
   "metadata": {},
   "outputs": [
    {
     "name": "stdout",
     "output_type": "stream",
     "text": [
      "吾輩は -> 見た\n",
      "ここで -> 始めて -> 人間という -> ものを -> 見た\n",
      "人間という -> ものを -> 見た\n",
      "ものを -> 見た\n"
     ]
    }
   ],
   "source": [
    "p2rs = get_path_to_root(neko_chunks[4])\n",
    "for p2r in p2rs:\n",
    "    print(ARROW.join(p2r))"
   ]
  },
  {
   "cell_type": "markdown",
   "metadata": {},
   "source": [
    "## 49. 名詞間の係り受けパスの抽出"
   ]
  },
  {
   "cell_type": "code",
   "execution_count": 24,
   "metadata": {},
   "outputs": [],
   "source": [
    "import itertools"
   ]
  },
  {
   "cell_type": "code",
   "execution_count": 25,
   "metadata": {},
   "outputs": [],
   "source": [
    "ARROW = ' -> '\n",
    "WALL = ' | '\n",
    "def replace_morph(chunk, kv, repl):\n",
    "    k, v = kv\n",
    "    num_of_match = len(chunk.search_kv(kv))\n",
    "    if num_of_match == 1:\n",
    "        return ''.join([\n",
    "            m['surface']\n",
    "            if m[k]!=v else repl\n",
    "            for m in chunk.morphs\n",
    "        ])\n",
    "    else:\n",
    "        replaced = []\n",
    "        match_count = 1\n",
    "        for m in chunk.morphs:\n",
    "            if m[k] != v:\n",
    "                replaced.append(m['surface'])\n",
    "            else:\n",
    "                if match_count == num_of_match:\n",
    "                    replaced.append(repl)\n",
    "                else:\n",
    "                    replaced.append(m['surface'])\n",
    "                    match_count += 1\n",
    "    return ''.join(replaced)\n",
    "\n",
    "    \n",
    "def get_noun_dependencies(sentence_chunks, kv=('pos', '名詞')):\n",
    "    noun_chunk_ids = []\n",
    "    id_to_path = {}\n",
    "    for i, c in enumerate(sentence_chunks):\n",
    "        if c.search_kv(kv):\n",
    "            noun_chunk_ids.append(i)\n",
    "        \n",
    "        path_to_root = [i]\n",
    "        dst_num = c['dst']\n",
    "        while dst_num != -1:\n",
    "            path_to_root.append(dst_num)\n",
    "            dst_num = sentence_chunks[dst_num]['dst']\n",
    "        \n",
    "        id_to_path[i] = path_to_root\n",
    "    \n",
    "    noun_id_pairs = list(itertools.combinations(noun_chunk_ids, 2))\n",
    "    \n",
    "    between_paths = []\n",
    "    for pair in noun_id_pairs:\n",
    "        X, Y = pair[0], pair[1]\n",
    "        X_path = id_to_path[X]\n",
    "        Y_path = id_to_path[Y]\n",
    "        X_replaced = replace_morph(sentence_chunks[X], ('pos', '名詞'), 'X')\n",
    "        Y_replaced = replace_morph(sentence_chunks[Y], ('pos', '名詞'), 'Y')\n",
    "        \n",
    "        if Y in X_path:\n",
    "            between_path = X_path[1:X_path.index(Y)]\n",
    "            between_path = [\n",
    "                sentence_chunks[idx].get_text() for idx in between_path\n",
    "            ]\n",
    "            between_path = ARROW.join([X_replaced]+between_path+[Y_replaced])\n",
    "            between_paths.append(between_path)\n",
    "        else:\n",
    "            XY_junction = set(X_path[1:])&set(Y_path[1:])\n",
    "            XY_junction = min(list(XY_junction))\n",
    "            XY_junction_text = sentence_chunks[XY_junction].get_text()\n",
    "            \n",
    "            X_to_k = X_path[1:X_path.index(XY_junction)]\n",
    "            Y_to_k = Y_path[1:Y_path.index(XY_junction)]\n",
    "            \n",
    "            X_path_text = [X_replaced] + [\n",
    "                sentence_chunks[idx].get_text() for idx in X_to_k\n",
    "            ]\n",
    "            X_path_text = ARROW.join(X_path_text)\n",
    "            Y_path_text = [Y_replaced] + [\n",
    "                sentence_chunks[idx].get_text() for idx in Y_to_k\n",
    "            ]\n",
    "            Y_path_text = ARROW.join(Y_path_text)\n",
    "            between_path = WALL.join([\n",
    "                X_path_text, Y_path_text, XY_junction_text\n",
    "            ])\n",
    "            between_paths.append(between_path)\n",
    "    \n",
    "    return between_paths"
   ]
  },
  {
   "cell_type": "code",
   "execution_count": 26,
   "metadata": {},
   "outputs": [
    {
     "name": "stdout",
     "output_type": "stream",
     "text": [
      "Xは | Yで -> 始めて -> 人間という -> ものを | 見た。\n",
      "Xは | Yという -> ものを | 見た。\n",
      "Xは | Yを | 見た。\n",
      "Xで -> 始めて -> Yという\n",
      "Xで -> 始めて -> 人間という -> Yを\n",
      "Xという -> Yを\n"
     ]
    }
   ],
   "source": [
    "noun_dependencies = get_noun_dependencies(neko_chunks[4])\n",
    "for dep in noun_dependencies:\n",
    "    print(dep)"
   ]
  },
  {
   "cell_type": "code",
   "execution_count": null,
   "metadata": {},
   "outputs": [],
   "source": []
  }
 ],
 "metadata": {
  "kernelspec": {
   "display_name": "Python 3",
   "language": "python",
   "name": "python3"
  },
  "language_info": {
   "codemirror_mode": {
    "name": "ipython",
    "version": 3
   },
   "file_extension": ".py",
   "mimetype": "text/x-python",
   "name": "python",
   "nbconvert_exporter": "python",
   "pygments_lexer": "ipython3",
   "version": "3.7.0"
  }
 },
 "nbformat": 4,
 "nbformat_minor": 2
}
