{
 "cells": [
  {
   "cell_type": "markdown",
   "metadata": {},
   "source": [
    "# 第5章: 係り受け解析"
   ]
  },
  {
   "cell_type": "code",
   "execution_count": 1,
   "metadata": {},
   "outputs": [],
   "source": [
    "import re\n",
    "import CaboCha"
   ]
  },
  {
   "cell_type": "code",
   "execution_count": 2,
   "metadata": {},
   "outputs": [],
   "source": [
    "cabocha = CaboCha.Parser()\n",
    "space_pattern = re.compile(r'\\u3000')\n",
    "chapter_pattern = re.compile(r'([\\n|\\r\\n|\\r]|(?<=^))([一二三四五六七八九十]+)[\\n|\\r\\n|\\r]')\n",
    "\n",
    "with open(\"../data/neko.txt\") as fr,\\\n",
    "     open(\"../data/neko.txt.cabocha\", \"w\") as fw:\n",
    "    text = fr.read()\n",
    "    text = re.sub(space_pattern, '', text)\n",
    "    text = re.sub(chapter_pattern, '', text)\n",
    "    \n",
    "    for sentence in text.split('。'):\n",
    "        sentence = sentence + '。'\n",
    "        tree = cabocha.parse(sentence)\n",
    "        print(tree.toString(CaboCha.FORMAT_LATTICE), file=fw)"
   ]
  },
  {
   "cell_type": "markdown",
   "metadata": {},
   "source": [
    "## 40. 係り受け解析結果の読み込み（形態素）"
   ]
  },
  {
   "cell_type": "code",
   "execution_count": 3,
   "metadata": {},
   "outputs": [],
   "source": [
    "class Morph(object):\n",
    "    def __init__(self, surface, base, pos, pos1):\n",
    "        self.surface = surface\n",
    "        self.base = base\n",
    "        self.pos = pos\n",
    "        self.pos1 = pos1\n",
    "        self.info = {\n",
    "            'surfce': self.surface,\n",
    "            'base': self.base,\n",
    "            'pos': self.pos,\n",
    "            'pos1': self.pos1,\n",
    "        }\n",
    "    \n",
    "    def as_dict(self):\n",
    "        return self.info\n",
    "    \n",
    "    def __str__(self):\n",
    "        return str(self.info)\n",
    "    \n",
    "    def __repr__(self):\n",
    "        return str(self.info)"
   ]
  },
  {
   "cell_type": "code",
   "execution_count": 4,
   "metadata": {},
   "outputs": [],
   "source": [
    "neko_cabocha = []\n",
    "with open('../data/neko.txt.cabocha') as fr:\n",
    "    sentence_cabocha = []\n",
    "    for line in fr:\n",
    "        line = line.rstrip()\n",
    "        \n",
    "        if line == 'EOS':\n",
    "            neko_cabocha.append(sentence_cabocha)\n",
    "            sentence_cabocha = []\n",
    "            continue\n",
    "        \n",
    "        if len(line) == 0\\\n",
    "        or line[0] == '*':\n",
    "            continue\n",
    "        \n",
    "        m = re.split('[\\t,]', line)\n",
    "        m = Morph(m[0], m[-3], m[1], m[2])\n",
    "        sentence_cabocha.append(m)"
   ]
  },
  {
   "cell_type": "code",
   "execution_count": 5,
   "metadata": {},
   "outputs": [
    {
     "data": {
      "text/plain": [
       "[{'surfce': 'どこ', 'base': 'どこ', 'pos': '名詞', 'pos1': '代名詞'},\n",
       " {'surfce': 'で', 'base': 'で', 'pos': '助詞', 'pos1': '格助詞'},\n",
       " {'surfce': '生れ', 'base': '生れる', 'pos': '動詞', 'pos1': '自立'},\n",
       " {'surfce': 'た', 'base': 'た', 'pos': '助動詞', 'pos1': '*'},\n",
       " {'surfce': 'か', 'base': 'か', 'pos': '助詞', 'pos1': '副助詞／並立助詞／終助詞'},\n",
       " {'surfce': 'とんと', 'base': 'とんと', 'pos': '副詞', 'pos1': '一般'},\n",
       " {'surfce': '見当', 'base': '見当', 'pos': '名詞', 'pos1': 'サ変接続'},\n",
       " {'surfce': 'が', 'base': 'が', 'pos': '助詞', 'pos1': '格助詞'},\n",
       " {'surfce': 'つか', 'base': 'つく', 'pos': '動詞', 'pos1': '自立'},\n",
       " {'surfce': 'ぬ', 'base': 'ぬ', 'pos': '助動詞', 'pos1': '*'},\n",
       " {'surfce': '。', 'base': '。', 'pos': '記号', 'pos1': '句点'}]"
      ]
     },
     "execution_count": 5,
     "metadata": {},
     "output_type": "execute_result"
    }
   ],
   "source": [
    "neko_cabocha[2]"
   ]
  },
  {
   "cell_type": "markdown",
   "metadata": {},
   "source": [
    "## 41. 係り受け解析結果の読み込み（文節・係り受け）"
   ]
  },
  {
   "cell_type": "code",
   "execution_count": 7,
   "metadata": {},
   "outputs": [],
   "source": [
    "class Chunk(object):\n",
    "    def __init__(self, morphs, dst, srcs):\n",
    "        self.morphs = morphs\n",
    "        self.dst = dst\n",
    "        self.srcs = srcs\n",
    "        self.info = {\n",
    "            'morphs': morphs,\n",
    "            'dst': dst,\n",
    "            'srcs': srcs,\n",
    "        }\n",
    "        \n",
    "    def as_dict(self):\n",
    "        return self.info\n",
    "    \n",
    "    def __str__(self):\n",
    "        return str(self.info)\n",
    "    \n",
    "    def __repr__(self):\n",
    "        return str(self.info)"
   ]
  },
  {
   "cell_type": "code",
   "execution_count": null,
   "metadata": {},
   "outputs": [],
   "source": []
  }
 ],
 "metadata": {
  "kernelspec": {
   "display_name": "Python 3",
   "language": "python",
   "name": "python3"
  },
  "language_info": {
   "codemirror_mode": {
    "name": "ipython",
    "version": 3
   },
   "file_extension": ".py",
   "mimetype": "text/x-python",
   "name": "python",
   "nbconvert_exporter": "python",
   "pygments_lexer": "ipython3",
   "version": "3.7.0"
  }
 },
 "nbformat": 4,
 "nbformat_minor": 2
}
