{
 "cells": [
  {
   "cell_type": "markdown",
   "metadata": {},
   "source": [
    "# 第3章: 正規表現\n",
    "【2020/04/08】<br>\n",
    "現在配布されているデータにセクション情報等が確認できないため、2015年度版のデータを使用"
   ]
  },
  {
   "cell_type": "markdown",
   "metadata": {},
   "source": [
    "## 20. JSONデータの読み込み"
   ]
  },
  {
   "cell_type": "code",
   "execution_count": 1,
   "metadata": {},
   "outputs": [],
   "source": [
    "import gzip\n",
    "import json"
   ]
  },
  {
   "cell_type": "code",
   "execution_count": 2,
   "metadata": {},
   "outputs": [
    {
     "name": "stdout",
     "output_type": "stream",
     "text": [
      "206\n"
     ]
    }
   ],
   "source": [
    "jawiki_data = {}\n",
    "with gzip.open('../data/jawiki-country.json.gz', 'rt') as fr:\n",
    "    for i, json_data in enumerate(fr):\n",
    "        data = json.loads(json_data)\n",
    "        jawiki_data[data['title']] = data\n",
    "print(len(jawiki_data))"
   ]
  },
  {
   "cell_type": "code",
   "execution_count": 3,
   "metadata": {},
   "outputs": [],
   "source": [
    "britwiki = jawiki_data['イギリス']['text']"
   ]
  },
  {
   "cell_type": "markdown",
   "metadata": {},
   "source": [
    "## 21. カテゴリ名を含む行を抽出\n",
    "[[Category:カテゴリ名]]"
   ]
  },
  {
   "cell_type": "code",
   "execution_count": 4,
   "metadata": {},
   "outputs": [],
   "source": [
    "import re"
   ]
  },
  {
   "cell_type": "code",
   "execution_count": 5,
   "metadata": {},
   "outputs": [
    {
     "data": {
      "text/plain": [
       "['[[Category:イギリス|*]]',\n",
       " '[[Category:英連邦王国|*]]',\n",
       " '[[Category:G8加盟国]]',\n",
       " '[[Category:欧州連合加盟国]]',\n",
       " '[[Category:海洋国家]]',\n",
       " '[[Category:君主国]]',\n",
       " '[[Category:島国|くれいとふりてん]]',\n",
       " '[[Category:1801年に設立された州・地域]]']"
      ]
     },
     "execution_count": 5,
     "metadata": {},
     "output_type": "execute_result"
    }
   ],
   "source": [
    "categoryline_pattern = re.compile(r'(.*\\[\\[Category:.*?\\]\\].*)')\n",
    "re.findall(categoryline_pattern, britwiki)"
   ]
  },
  {
   "cell_type": "markdown",
   "metadata": {},
   "source": [
    "## 22. カテゴリ名の抽出"
   ]
  },
  {
   "cell_type": "code",
   "execution_count": 6,
   "metadata": {},
   "outputs": [
    {
     "data": {
      "text/plain": [
       "['イギリス|*',\n",
       " '英連邦王国|*',\n",
       " 'G8加盟国',\n",
       " '欧州連合加盟国',\n",
       " '海洋国家',\n",
       " '君主国',\n",
       " '島国|くれいとふりてん',\n",
       " '1801年に設立された州・地域']"
      ]
     },
     "execution_count": 6,
     "metadata": {},
     "output_type": "execute_result"
    }
   ],
   "source": [
    "categoryname_pattern = re.compile(r'\\[\\[Category:(.*?)\\]\\]')\n",
    "re.findall(categoryname_pattern, britwiki)"
   ]
  },
  {
   "cell_type": "markdown",
   "metadata": {},
   "source": [
    "## 23. セクション構造\n",
    "==section=="
   ]
  },
  {
   "cell_type": "code",
   "execution_count": 7,
   "metadata": {},
   "outputs": [
    {
     "name": "stdout",
     "output_type": "stream",
     "text": [
      "1 : 国名\n",
      "1 : 歴史\n",
      "1 : 地理\n",
      "2 : 気候\n",
      "1 : 政治\n",
      "1 : 外交と軍事\n",
      "1 : 地方行政区分\n",
      "2 : 主要都市\n",
      "1 : 科学技術\n",
      "1 : 経済\n",
      "2 : 鉱業\n",
      "2 : 農業\n",
      "2 : 貿易\n",
      "2 : 通貨\n",
      "2 : 企業\n",
      "1 : 交通\n",
      "2 : 道路\n",
      "2 : 鉄道\n",
      "2 : 海運\n",
      "2 : 航空\n",
      "1 : 通信\n",
      "1 : 国民\n",
      "2 : 言語\n",
      "2 : 宗教\n",
      "2 :  婚姻 \n",
      "2 : 教育\n",
      "1 : 文化\n",
      "2 : 食文化\n",
      "2 : 文学\n",
      "2 :  哲学 \n",
      "2 : 音楽\n",
      "3 : イギリスのポピュラー音楽\n",
      "2 : 映画\n",
      "2 : コメディ\n",
      "2 : 国花\n",
      "2 : 世界遺産\n",
      "2 : 祝祭日\n",
      "1 : スポーツ\n",
      "2 : サッカー\n",
      "2 : 競馬\n",
      "2 : モータースポーツ\n",
      "1 : 脚注\n",
      "1 : 関連項目\n",
      "1 : 外部リンク\n"
     ]
    }
   ],
   "source": [
    "section_pattern = re.compile(r'(={2,})(.*?)={2,}')\n",
    "for result in re.findall(section_pattern, britwiki):\n",
    "    section_level = len(result[0]) - 1\n",
    "    section_name = result[1]\n",
    "    print(section_level, \":\", section_name)"
   ]
  },
  {
   "cell_type": "markdown",
   "metadata": {},
   "source": [
    "## 24. ファイル参照の抽出\n",
    "[File:Battle of Waterloo 1815.PNG|thumb|left|[[ワーテルローの戦い]]"
   ]
  },
  {
   "cell_type": "code",
   "execution_count": 8,
   "metadata": {},
   "outputs": [
    {
     "data": {
      "text/plain": [
       "['Battle of Waterloo 1815.PNG',\n",
       " 'The British Empire.png',\n",
       " 'Uk topo en.jpg',\n",
       " 'BenNevis2005.jpg',\n",
       " 'Elizabeth II greets NASA GSFC employees, May 8, 2007 edit.jpg',\n",
       " 'Palace of Westminster, London - Feb 2007.jpg',\n",
       " 'David Cameron and Barack Obama at the G20 Summit in Toronto.jpg',\n",
       " 'Soldiers Trooping the Colour, 16th June 2007.jpg',\n",
       " 'Scotland Parliament Holyrood.jpg',\n",
       " 'London.bankofengland.arp.jpg',\n",
       " 'City of London skyline from London City Hall - Oct 2008.jpg',\n",
       " 'Oil platform in the North SeaPros.jpg',\n",
       " 'Eurostar at St Pancras Jan 2008.jpg',\n",
       " 'Heathrow T5.jpg',\n",
       " 'Anglospeak.svg']"
      ]
     },
     "execution_count": 8,
     "metadata": {},
     "output_type": "execute_result"
    }
   ],
   "source": [
    "file_ref_pattern = re.compile(r'\\[File:(.*?)\\|.*\\]')\n",
    "re.findall(file_ref_pattern, britwiki)"
   ]
  },
  {
   "cell_type": "markdown",
   "metadata": {},
   "source": [
    "## 25. テンプレートの抽出\n",
    "{{基礎情報 国<br>\n",
    "|a = b<br>\n",
    "|c = d<br>\n",
    "}}"
   ]
  },
  {
   "cell_type": "code",
   "execution_count": 9,
   "metadata": {},
   "outputs": [],
   "source": [
    "template_pattern = re.compile(r'(^|(?<=[\\n|\\r\\n|\\r]))(\\{\\{基礎情報[\\s\\S]*)(?=[\\n|\\r\\n|\\r]\\}\\})')\n",
    "field_pattern = re.compile(r'^|(?<=[\\n|\\r\\n|\\r]\\|)(.*)=(.*)')\n",
    "\n",
    "template_fields = {}\n",
    "template = re.search(template_pattern, britwiki).group()\n",
    "for k, v in re.findall(field_pattern, template):\n",
    "    if k == \"\" or v == \"\":\n",
    "        continue\n",
    "    template_fields[k] = v"
   ]
  },
  {
   "cell_type": "code",
   "execution_count": 10,
   "metadata": {},
   "outputs": [
    {
     "data": {
      "text/plain": [
       "{'略名 ': ' イギリス',\n",
       " '日本語国名 ': ' グレートブリテン及び北アイルランド連合王国',\n",
       " '公式国名 ': ' {{lang|en|United Kingdom of Great Britain and Northern Ireland}}<ref>英語以外での正式国名:<br/>',\n",
       " '国旗画像 ': ' Flag of the United Kingdom.svg',\n",
       " '国章画像 ': ' [[ファイル:Royal Coat of Arms of the United Kingdom.svg|85px|イギリスの国章]]',\n",
       " '国章リンク ': ' （[[イギリスの国章|国章]]）',\n",
       " '標語 ': ' {{lang|fr|Dieu et mon droit}}<br/>（[[フランス語]]:神と私の権利）',\n",
       " '国歌 ': ' [[女王陛下万歳|神よ女王陛下を守り給え]]',\n",
       " '位置画像 ': ' Location_UK_EU_Europe_001.svg',\n",
       " '公用語 ': ' [[英語]]（事実上）',\n",
       " '首都 ': ' [[ロンドン]]',\n",
       " '最大都市 ': ' ロンドン',\n",
       " '元首等肩書 ': ' [[イギリスの君主|女王]]',\n",
       " '元首等氏名 ': ' [[エリザベス2世]]',\n",
       " '首相等肩書 ': ' [[イギリスの首相|首相]]',\n",
       " '首相等氏名 ': ' [[デーヴィッド・キャメロン]]',\n",
       " '面積順位 ': ' 76',\n",
       " '面積大きさ ': ' 1 E11',\n",
       " '面積値 ': ' 244,820',\n",
       " '水面積率 ': ' 1.3%',\n",
       " '人口統計年 ': ' 2011',\n",
       " '人口順位 ': ' 22',\n",
       " '人口大きさ ': ' 1 E7',\n",
       " '人口値 ': ' 63,181,775<ref>[http://esa.un.org/unpd/wpp/Excel-Data/population.htm United Nations Department of Economic and Social Affairs>Population Division>Data>Population>Total Population]</ref>',\n",
       " '人口密度値 ': ' 246',\n",
       " 'GDP統計年元 ': ' 2012',\n",
       " 'GDP値元 = 1兆5478億<ref name=\"imf-statistics-gdp\">[http://www.imf.org/external/pubs/ft/weo/2012/02/weodata/weorept.aspx?pr.x=70&pr.y=13&sy=2010&ey=2012&scsm=1&ssd=1&sort=country&ds=.&br=1&c=112&s=NGDP%2CNGDPD%2CPPPGDP%2CPPPPC&grp=0&a': ' IMF>Data and Statistics>World Economic Outlook Databases>By Countrise>United Kingdom]</ref>',\n",
       " 'GDP統計年MER ': ' 2012',\n",
       " 'GDP順位MER ': ' 5',\n",
       " 'GDP値MER = 2兆4337億<ref name': '\"imf-statistics-gdp\" />',\n",
       " 'GDP統計年 ': ' 2012',\n",
       " 'GDP順位 ': ' 6',\n",
       " 'GDP値 = 2兆3162億<ref name': '\"imf-statistics-gdp\" />',\n",
       " 'GDP/人 = 36,727<ref name': '\"imf-statistics-gdp\" />',\n",
       " '建国形態 ': ' 建国',\n",
       " '確立形態1 ': ' [[イングランド王国]]／[[スコットランド王国]]<br />（両国とも[[連合法 (1707年)|1707年連合法]]まで）',\n",
       " '確立年月日1 ': ' [[927年]]／[[843年]]',\n",
       " '確立形態2 ': ' [[グレートブリテン王国]]建国<br />（[[連合法 (1707年)|1707年連合法]]）',\n",
       " '確立年月日2 ': ' [[1707年]]',\n",
       " '確立形態3 ': ' [[グレートブリテン及びアイルランド連合王国]]建国<br />（[[連合法 (1800年)|1800年連合法]]）',\n",
       " '確立年月日3 ': ' [[1801年]]',\n",
       " '確立形態4 ': \" 現在の国号「'''グレートブリテン及び北アイルランド連合王国'''」に変更\",\n",
       " '確立年月日4 ': ' [[1927年]]',\n",
       " '通貨 ': ' [[スターリング・ポンド|UKポンド]] (&pound;)',\n",
       " '通貨コード ': ' GBP',\n",
       " '時間帯 ': ' ±0',\n",
       " '夏時間 ': ' +1',\n",
       " 'ISO 3166-1 ': ' GB / GBR',\n",
       " 'ccTLD ': ' [[.uk]] / [[.gb]]<ref>使用は.ukに比べ圧倒的少数。</ref>',\n",
       " '国際電話番号 ': ' 44',\n",
       " '注記 ': ' <references />'}"
      ]
     },
     "execution_count": 10,
     "metadata": {},
     "output_type": "execute_result"
    }
   ],
   "source": [
    "template_fields"
   ]
  },
  {
   "cell_type": "markdown",
   "metadata": {},
   "source": [
    "## 26. 強調マークアップの除去"
   ]
  },
  {
   "cell_type": "code",
   "execution_count": 11,
   "metadata": {},
   "outputs": [
    {
     "data": {
      "text/plain": [
       "{'略名 ': ' イギリス',\n",
       " '日本語国名 ': ' グレートブリテン及び北アイルランド連合王国',\n",
       " '公式国名 ': ' {{lang|en|United Kingdom of Great Britain and Northern Ireland}}<ref>英語以外での正式国名:<br/>',\n",
       " '国旗画像 ': ' Flag of the United Kingdom.svg',\n",
       " '国章画像 ': ' [[ファイル:Royal Coat of Arms of the United Kingdom.svg|85px|イギリスの国章]]',\n",
       " '国章リンク ': ' （[[イギリスの国章|国章]]）',\n",
       " '標語 ': ' {{lang|fr|Dieu et mon droit}}<br/>（[[フランス語]]:神と私の権利）',\n",
       " '国歌 ': ' [[女王陛下万歳|神よ女王陛下を守り給え]]',\n",
       " '位置画像 ': ' Location_UK_EU_Europe_001.svg',\n",
       " '公用語 ': ' [[英語]]（事実上）',\n",
       " '首都 ': ' [[ロンドン]]',\n",
       " '最大都市 ': ' ロンドン',\n",
       " '元首等肩書 ': ' [[イギリスの君主|女王]]',\n",
       " '元首等氏名 ': ' [[エリザベス2世]]',\n",
       " '首相等肩書 ': ' [[イギリスの首相|首相]]',\n",
       " '首相等氏名 ': ' [[デーヴィッド・キャメロン]]',\n",
       " '面積順位 ': ' 76',\n",
       " '面積大きさ ': ' 1 E11',\n",
       " '面積値 ': ' 244,820',\n",
       " '水面積率 ': ' 1.3%',\n",
       " '人口統計年 ': ' 2011',\n",
       " '人口順位 ': ' 22',\n",
       " '人口大きさ ': ' 1 E7',\n",
       " '人口値 ': ' 63,181,775<ref>[http://esa.un.org/unpd/wpp/Excel-Data/population.htm United Nations Department of Economic and Social Affairs>Population Division>Data>Population>Total Population]</ref>',\n",
       " '人口密度値 ': ' 246',\n",
       " 'GDP統計年元 ': ' 2012',\n",
       " 'GDP値元 = 1兆5478億<ref name=\"imf-statistics-gdp\">[http://www.imf.org/external/pubs/ft/weo/2012/02/weodata/weorept.aspx?pr.x=70&pr.y=13&sy=2010&ey=2012&scsm=1&ssd=1&sort=country&ds=.&br=1&c=112&s=NGDP%2CNGDPD%2CPPPGDP%2CPPPPC&grp=0&a': ' IMF>Data and Statistics>World Economic Outlook Databases>By Countrise>United Kingdom]</ref>',\n",
       " 'GDP統計年MER ': ' 2012',\n",
       " 'GDP順位MER ': ' 5',\n",
       " 'GDP値MER = 2兆4337億<ref name': '\"imf-statistics-gdp\" />',\n",
       " 'GDP統計年 ': ' 2012',\n",
       " 'GDP順位 ': ' 6',\n",
       " 'GDP値 = 2兆3162億<ref name': '\"imf-statistics-gdp\" />',\n",
       " 'GDP/人 = 36,727<ref name': '\"imf-statistics-gdp\" />',\n",
       " '建国形態 ': ' 建国',\n",
       " '確立形態1 ': ' [[イングランド王国]]／[[スコットランド王国]]<br />（両国とも[[連合法 (1707年)|1707年連合法]]まで）',\n",
       " '確立年月日1 ': ' [[927年]]／[[843年]]',\n",
       " '確立形態2 ': ' [[グレートブリテン王国]]建国<br />（[[連合法 (1707年)|1707年連合法]]）',\n",
       " '確立年月日2 ': ' [[1707年]]',\n",
       " '確立形態3 ': ' [[グレートブリテン及びアイルランド連合王国]]建国<br />（[[連合法 (1800年)|1800年連合法]]）',\n",
       " '確立年月日3 ': ' [[1801年]]',\n",
       " '確立形態4 ': ' 現在の国号「グレートブリテン及び北アイルランド連合王国」に変更',\n",
       " '確立年月日4 ': ' [[1927年]]',\n",
       " '通貨 ': ' [[スターリング・ポンド|UKポンド]] (&pound;)',\n",
       " '通貨コード ': ' GBP',\n",
       " '時間帯 ': ' ±0',\n",
       " '夏時間 ': ' +1',\n",
       " 'ISO 3166-1 ': ' GB / GBR',\n",
       " 'ccTLD ': ' [[.uk]] / [[.gb]]<ref>使用は.ukに比べ圧倒的少数。</ref>',\n",
       " '国際電話番号 ': ' 44',\n",
       " '注記 ': ' <references />'}"
      ]
     },
     "execution_count": 11,
     "metadata": {},
     "output_type": "execute_result"
    }
   ],
   "source": [
    "template_pattern = re.compile(r'(^|(?<=[\\n|\\r\\n|\\r]))(\\{\\{基礎情報[\\s\\S]*)(?=[\\n|\\r\\n|\\r]\\}\\})')\n",
    "emphasis_pattern = re.compile(r\"'{5}|'{3}|'{2}\")\n",
    "field_pattern = re.compile(r'^|(?<=[\\n|\\r\\n|\\r]\\|)(.*)=(.*)')\n",
    "\n",
    "template_fields = {}\n",
    "template = re.search(template_pattern, britwiki).group()\n",
    "template = re.sub(emphasis_pattern, '', template)\n",
    "for k, v in re.findall(field_pattern, template):\n",
    "    if k == \"\" or v == \"\":\n",
    "        continue\n",
    "    template_fields[k] = v\n",
    "    \n",
    "template_fields"
   ]
  },
  {
   "cell_type": "markdown",
   "metadata": {},
   "source": [
    "## 27. 内部リンクの除去"
   ]
  },
  {
   "cell_type": "code",
   "execution_count": 12,
   "metadata": {},
   "outputs": [
    {
     "data": {
      "text/plain": [
       "{'略名 ': ' イギリス',\n",
       " '日本語国名 ': ' グレートブリテン及び北アイルランド連合王国',\n",
       " '公式国名 ': ' {{lang|en|United Kingdom of Great Britain and Northern Ireland}}<ref>英語以外での正式国名:<br/>',\n",
       " '国旗画像 ': ' Flag of the United Kingdom.svg',\n",
       " '国章画像 ': ' Royal Coat of Arms of the United Kingdom.svg',\n",
       " '国章リンク ': ' （国章）',\n",
       " '標語 ': ' {{lang|fr|Dieu et mon droit}}<br/>（フランス語:神と私の権利）',\n",
       " '国歌 ': ' 神よ女王陛下を守り給え',\n",
       " '位置画像 ': ' Location_UK_EU_Europe_001.svg',\n",
       " '公用語 ': ' 英語（事実上）',\n",
       " '首都 ': ' ロンドン',\n",
       " '最大都市 ': ' ロンドン',\n",
       " '元首等肩書 ': ' 女王',\n",
       " '元首等氏名 ': ' エリザベス2世',\n",
       " '首相等肩書 ': ' 首相',\n",
       " '首相等氏名 ': ' デーヴィッド・キャメロン',\n",
       " '面積順位 ': ' 76',\n",
       " '面積大きさ ': ' 1 E11',\n",
       " '面積値 ': ' 244,820',\n",
       " '水面積率 ': ' 1.3%',\n",
       " '人口統計年 ': ' 2011',\n",
       " '人口順位 ': ' 22',\n",
       " '人口大きさ ': ' 1 E7',\n",
       " '人口値 ': ' 63,181,775<ref>[http://esa.un.org/unpd/wpp/Excel-Data/population.htm United Nations Department of Economic and Social Affairs>Population Division>Data>Population>Total Population]</ref>',\n",
       " '人口密度値 ': ' 246',\n",
       " 'GDP統計年元 ': ' 2012',\n",
       " 'GDP値元 = 1兆5478億<ref name=\"imf-statistics-gdp\">[http://www.imf.org/external/pubs/ft/weo/2012/02/weodata/weorept.aspx?pr.x=70&pr.y=13&sy=2010&ey=2012&scsm=1&ssd=1&sort=country&ds=.&br=1&c=112&s=NGDP%2CNGDPD%2CPPPGDP%2CPPPPC&grp=0&a': ' IMF>Data and Statistics>World Economic Outlook Databases>By Countrise>United Kingdom]</ref>',\n",
       " 'GDP統計年MER ': ' 2012',\n",
       " 'GDP順位MER ': ' 5',\n",
       " 'GDP値MER = 2兆4337億<ref name': '\"imf-statistics-gdp\" />',\n",
       " 'GDP統計年 ': ' 2012',\n",
       " 'GDP順位 ': ' 6',\n",
       " 'GDP値 = 2兆3162億<ref name': '\"imf-statistics-gdp\" />',\n",
       " 'GDP/人 = 36,727<ref name': '\"imf-statistics-gdp\" />',\n",
       " '建国形態 ': ' 建国',\n",
       " '確立形態1 ': ' 1707年連合法まで）',\n",
       " '確立年月日1 ': ' 927年／843年',\n",
       " '確立形態2 ': ' 1707年連合法）',\n",
       " '確立年月日2 ': ' 1707年',\n",
       " '確立形態3 ': ' 1800年連合法）',\n",
       " '確立年月日3 ': ' 1801年',\n",
       " '確立形態4 ': ' 現在の国号「グレートブリテン及び北アイルランド連合王国」に変更',\n",
       " '確立年月日4 ': ' 1927年',\n",
       " '通貨 ': ' UKポンド (&pound;)',\n",
       " '通貨コード ': ' GBP',\n",
       " '時間帯 ': ' ±0',\n",
       " '夏時間 ': ' +1',\n",
       " 'ISO 3166-1 ': ' GB / GBR',\n",
       " 'ccTLD ': ' .uk / .gb<ref>使用は.ukに比べ圧倒的少数。</ref>',\n",
       " '国際電話番号 ': ' 44',\n",
       " '注記 ': ' <references />'}"
      ]
     },
     "execution_count": 12,
     "metadata": {},
     "output_type": "execute_result"
    }
   ],
   "source": [
    "template_pattern = re.compile(r'(^|(?<=[\\n|\\r\\n|\\r]))(\\{\\{基礎情報[\\s\\S]*)(?=[\\n|\\r\\n|\\r]\\}\\})')\n",
    "emphasis_pattern = re.compile(r\"'{5}|'{3}|'{2}\")\n",
    "file_pattern = re.compile(r'(\\[\\[ファイル:)(.*?)(\\|.*?)(\\]\\])')\n",
    "link_pattern = re.compile(r'(\\[\\[)(.*?\\|)?(.*?)(\\]\\])')\n",
    "field_pattern = re.compile(r'^|(?<=[\\n|\\r\\n|\\r]\\|)(.*)=(.*)')\n",
    "\n",
    "template_fields = {}\n",
    "template = re.search(template_pattern, britwiki).group()\n",
    "template = re.sub(emphasis_pattern, '', template)\n",
    "template = re.sub(file_pattern, r'\\2', template)\n",
    "template = re.sub(link_pattern, r'\\3', template)\n",
    "\n",
    "for k, v in re.findall(field_pattern, template):\n",
    "    if k == \"\" or v == \"\":\n",
    "        continue\n",
    "    template_fields[k] = v\n",
    "\n",
    "template_fields"
   ]
  },
  {
   "cell_type": "markdown",
   "metadata": {},
   "source": [
    "## 28. MediaWikiマークアップの除去"
   ]
  },
  {
   "cell_type": "code",
   "execution_count": 13,
   "metadata": {},
   "outputs": [
    {
     "data": {
      "text/plain": [
       "{'略名': 'イギリス',\n",
       " '日本語国名': 'グレートブリテン及び北アイルランド連合王国',\n",
       " '公式国名': 'United Kingdom of Great Britain and Northern Ireland',\n",
       " '国旗画像': 'Flag of the United Kingdom.svg',\n",
       " '国章画像': 'Royal Coat of Arms of the United Kingdom.svg',\n",
       " '国章リンク': '（国章）',\n",
       " '標語': 'Dieu et mon droit（フランス語:神と私の権利）',\n",
       " '国歌': '神よ女王陛下を守り給え',\n",
       " '位置画像': 'Location_UK_EU_Europe_001.svg',\n",
       " '公用語': '英語（事実上）',\n",
       " '首都': 'ロンドン',\n",
       " '最大都市': 'ロンドン',\n",
       " '元首等肩書': '女王',\n",
       " '元首等氏名': 'エリザベス2世',\n",
       " '首相等肩書': '首相',\n",
       " '首相等氏名': 'デーヴィッド・キャメロン',\n",
       " '面積順位': '76',\n",
       " '面積大きさ': '1 E11',\n",
       " '面積値': '244,820',\n",
       " '水面積率': '1.3%',\n",
       " '人口統計年': '2011',\n",
       " '人口順位': '22',\n",
       " '人口大きさ': '1 E7',\n",
       " '人口値': '63,181,775',\n",
       " '人口密度値': '246',\n",
       " 'GDP統計年元': '2012',\n",
       " 'GDP値元': '1兆5478億',\n",
       " 'GDP統計年MER': '2012',\n",
       " 'GDP順位MER': '5',\n",
       " 'GDP値MER': '2兆4337億',\n",
       " 'GDP統計年': '2012',\n",
       " 'GDP順位': '6',\n",
       " 'GDP値': '2兆3162億',\n",
       " 'GDP/人': '36,727',\n",
       " '建国形態': '建国',\n",
       " '確立形態1': '1707年連合法まで）',\n",
       " '確立年月日1': '927年／843年',\n",
       " '確立形態2': '1707年連合法）',\n",
       " '確立年月日2': '1707年',\n",
       " '確立形態3': '1800年連合法）',\n",
       " '確立年月日3': '1801年',\n",
       " '確立形態4': '現在の国号「グレートブリテン及び北アイルランド連合王国」に変更',\n",
       " '確立年月日4': '1927年',\n",
       " '通貨': 'UKポンド (&pound;)',\n",
       " '通貨コード': 'GBP',\n",
       " '時間帯': '±0',\n",
       " '夏時間': '+1',\n",
       " 'ISO 3166-1': 'GB / GBR',\n",
       " 'ccTLD': '.uk / .gb',\n",
       " '国際電話番号': '44',\n",
       " '注記': ''}"
      ]
     },
     "execution_count": 13,
     "metadata": {},
     "output_type": "execute_result"
    }
   ],
   "source": [
    "template_pattern = re.compile(r'(^|(?<=[\\n|\\r\\n|\\r]))(\\{\\{基礎情報[\\s\\S]*)(?=[\\n|\\r\\n|\\r]\\}\\})')\n",
    "emphasis_pattern = re.compile(r\"'{5}|'{3}|'{2}\")\n",
    "file_pattern = re.compile(r'(\\[\\[ファイル:)(.*?)(\\|.*?)(\\]\\])')\n",
    "link_pattern = re.compile(r'(\\[\\[)(.*?\\|)?(.*?)(\\]\\])')\n",
    "lang_pattern = re.compile(r'(\\{\\{lang\\|)(.*?\\|)(.*?)(\\}\\})')\n",
    "br_pattern = re.compile(r'<br/>')\n",
    "url_pattern = re.compile(r'\\[http.*?\\]')\n",
    "ref_pattern = re.compile(r'<ref.*?[\\s\\S]*?/.*?>')\n",
    "field_pattern = re.compile(r'^|(?<=[\\n|\\r\\n|\\r]\\|)(.*)=(.*)')\n",
    "\n",
    "template_fields = {}\n",
    "template = re.search(template_pattern, britwiki).group()\n",
    "template = re.sub(emphasis_pattern, '', template)\n",
    "template = re.sub(file_pattern, r'\\2', template)\n",
    "template = re.sub(link_pattern, r'\\3', template)\n",
    "template = re.sub(lang_pattern, r'\\3', template)\n",
    "template = re.sub(br_pattern, '', template)\n",
    "template = re.sub(url_pattern, '', template)\n",
    "template = re.sub(ref_pattern, '', template)\n",
    "\n",
    "for k, v in re.findall(field_pattern, template):\n",
    "    if k == \"\" or v == \"\":\n",
    "        continue\n",
    "    if k[-1] == \" \":\n",
    "        k = k[:-1]\n",
    "    if v[0] == \" \":\n",
    "        v = v[1:]\n",
    "    template_fields[k] = v\n",
    "\n",
    "template_fields"
   ]
  },
  {
   "cell_type": "markdown",
   "metadata": {},
   "source": [
    "## 29. 国旗画像のURLを取得する\n",
    "[参考]<br>\n",
    "requestsモジュールの使い方: https://requests-docs-ja.readthedocs.io/en/latest/user/quickstart/ <br>\n",
    "URLエンドポイントの仕組み: https://www.mediawiki.org/wiki/API:Tutorial <br>\n",
    "パラメータの選択: https://www.mediawiki.org/w/api.php?action=help&modules=main"
   ]
  },
  {
   "cell_type": "code",
   "execution_count": 14,
   "metadata": {},
   "outputs": [],
   "source": [
    "import requests"
   ]
  },
  {
   "cell_type": "code",
   "execution_count": 15,
   "metadata": {},
   "outputs": [],
   "source": [
    "params = {\n",
    "    'action': 'query',\n",
    "    'prop': 'imageinfo',\n",
    "    'titles': 'File:'+template_fields['国旗画像'],\n",
    "    'iiprop': 'url',\n",
    "    'format': 'json',\n",
    "}\n",
    "r = requests.get('https://www.mediawiki.org/w/api.php', params=params)"
   ]
  },
  {
   "cell_type": "code",
   "execution_count": 16,
   "metadata": {},
   "outputs": [
    {
     "name": "stdout",
     "output_type": "stream",
     "text": [
      "[request url]\n",
      "  https://www.mediawiki.org/w/api.php?action=query&prop=imageinfo&titles=File%3AFlag+of+the+United+Kingdom.svg&iiprop=url&format=json\n"
     ]
    },
    {
     "data": {
      "text/plain": [
       "{'continue': {'iistart': '2019-09-10T16:52:58Z', 'continue': '||'},\n",
       " 'query': {'pages': {'-1': {'ns': 6,\n",
       "    'title': 'File:Flag of the United Kingdom.svg',\n",
       "    'missing': '',\n",
       "    'known': '',\n",
       "    'imagerepository': 'shared',\n",
       "    'imageinfo': [{'url': 'https://upload.wikimedia.org/wikipedia/commons/a/ae/Flag_of_the_United_Kingdom.svg',\n",
       "      'descriptionurl': 'https://commons.wikimedia.org/wiki/File:Flag_of_the_United_Kingdom.svg',\n",
       "      'descriptionshorturl': 'https://commons.wikimedia.org/w/index.php?curid=347935'}]}}}}"
      ]
     },
     "execution_count": 16,
     "metadata": {},
     "output_type": "execute_result"
    }
   ],
   "source": [
    "print(\"[request url]\\n \", r.url)\n",
    "r.json()"
   ]
  },
  {
   "cell_type": "code",
   "execution_count": 17,
   "metadata": {},
   "outputs": [
    {
     "name": "stdout",
     "output_type": "stream",
     "text": [
      "https://upload.wikimedia.org/wikipedia/commons/a/ae/Flag_of_the_United_Kingdom.svg\n"
     ]
    }
   ],
   "source": [
    "print(r.json()['query']['pages']['-1']['imageinfo'][0]['url'])"
   ]
  },
  {
   "cell_type": "code",
   "execution_count": null,
   "metadata": {},
   "outputs": [],
   "source": []
  }
 ],
 "metadata": {
  "kernelspec": {
   "display_name": "mainEnv",
   "language": "python",
   "name": "mainenv"
  },
  "language_info": {
   "codemirror_mode": {
    "name": "ipython",
    "version": 3
   },
   "file_extension": ".py",
   "mimetype": "text/x-python",
   "name": "python",
   "nbconvert_exporter": "python",
   "pygments_lexer": "ipython3",
   "version": "3.7.0"
  }
 },
 "nbformat": 4,
 "nbformat_minor": 2
}
