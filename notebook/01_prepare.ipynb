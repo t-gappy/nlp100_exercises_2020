{
 "cells": [
  {
   "cell_type": "markdown",
   "metadata": {},
   "source": [
    "# 第1章: 準備運動"
   ]
  },
  {
   "cell_type": "markdown",
   "metadata": {},
   "source": [
    "## 00. 文字列の逆順"
   ]
  },
  {
   "cell_type": "code",
   "execution_count": 1,
   "metadata": {},
   "outputs": [
    {
     "name": "stdout",
     "output_type": "stream",
     "text": [
      "desserts\n"
     ]
    }
   ],
   "source": [
    "print(\"stressed\"[::-1])"
   ]
  },
  {
   "cell_type": "markdown",
   "metadata": {},
   "source": [
    "## 01. 「パタトクカシーー」"
   ]
  },
  {
   "cell_type": "code",
   "execution_count": 2,
   "metadata": {},
   "outputs": [
    {
     "name": "stdout",
     "output_type": "stream",
     "text": [
      "パトカー\n"
     ]
    }
   ],
   "source": [
    "print(\"パタトクカシーー\"[::2])"
   ]
  },
  {
   "cell_type": "markdown",
   "metadata": {},
   "source": [
    "## 02. 「パトカー」＋「タクシー」＝「パタトクカシーー」"
   ]
  },
  {
   "cell_type": "code",
   "execution_count": 3,
   "metadata": {},
   "outputs": [
    {
     "name": "stdout",
     "output_type": "stream",
     "text": [
      "パタトクカシーー\n"
     ]
    }
   ],
   "source": [
    "print(\"\".join([p+t for p, t in zip(\"パトカー\", \"タクシー\")]))"
   ]
  },
  {
   "cell_type": "markdown",
   "metadata": {},
   "source": [
    "# 03. 円周率"
   ]
  },
  {
   "cell_type": "code",
   "execution_count": 4,
   "metadata": {},
   "outputs": [
    {
     "name": "stdout",
     "output_type": "stream",
     "text": [
      "3141692753589710\n"
     ]
    }
   ],
   "source": [
    "text = \"Now I need a drink, alcoholic of course, after the heavy lectures involving quantum mechanics.\"\n",
    "ignore_chars = [',', '.']\n",
    "print(\"\".join([\n",
    "    str(len(w))\n",
    "    for w in text.split() \n",
    "    if w not in ignore_chars\n",
    "]))"
   ]
  },
  {
   "cell_type": "markdown",
   "metadata": {},
   "source": [
    "## 04. 元素記号"
   ]
  },
  {
   "cell_type": "code",
   "execution_count": 5,
   "metadata": {},
   "outputs": [
    {
     "name": "stdout",
     "output_type": "stream",
     "text": [
      "{'H': 1, 'He': 2, 'Li': 3, 'Be': 4, 'B': 5, 'C': 6, 'N': 7, 'O': 8, 'F': 9, 'Ne': 10, 'Na': 11, 'Mi': 12, 'Al': 13, 'Si': 14, 'P': 15, 'S': 16, 'Cl': 17, 'Ar': 18, 'K': 19, 'Ca': 20}\n"
     ]
    }
   ],
   "source": [
    "one_chars = [1, 5, 6, 7, 8, 9, 15, 16, 19]\n",
    "text = \"Hi He Lied Because Boron Could Not Oxidize Fluorine. New Nations Might Also Sign Peace Security Clause. Arthur King Can.\"\n",
    "text = text.split()\n",
    "elements = [\n",
    "    w[:1] if n in one_chars\n",
    "    else w[:2]\n",
    "    for n, w in zip(range(1, len(text)+1), text)\n",
    "]\n",
    "elements_dict = {\n",
    "    e: i+1 for i, e in enumerate(elements)\n",
    "}\n",
    "print(elements_dict)"
   ]
  },
  {
   "cell_type": "markdown",
   "metadata": {},
   "source": [
    "## 05. n-gram"
   ]
  },
  {
   "cell_type": "code",
   "execution_count": 6,
   "metadata": {},
   "outputs": [
    {
     "name": "stdout",
     "output_type": "stream",
     "text": [
      "[['I', 'am'], ['am', 'an'], ['an', 'NLPer']]\n",
      "['I ', ' a', 'am', 'm ', ' a', 'an', 'n ', ' N', 'NL', 'LP', 'Pe', 'er']\n"
     ]
    }
   ],
   "source": [
    "def get_ngram(seq, n=2):\n",
    "    num_words = len(seq)\n",
    "    n_gramed_seq = []\n",
    "    \n",
    "    for i in range(num_words):\n",
    "        if i >= (num_words-n+1):\n",
    "            break\n",
    "        n_gramed_seq.append(seq[i:i+n])\n",
    "    return n_gramed_seq\n",
    "\n",
    "text = \"I am an NLPer\"\n",
    "print(get_ngram(text.split()))\n",
    "print(get_ngram(text))"
   ]
  },
  {
   "cell_type": "markdown",
   "metadata": {},
   "source": [
    "## 06. 集合"
   ]
  },
  {
   "cell_type": "code",
   "execution_count": 7,
   "metadata": {},
   "outputs": [
    {
     "name": "stdout",
     "output_type": "stream",
     "text": [
      "X (paraparaparadise):  {'ap', 'di', 'ra', 'is', 'se', 'pa', 'ar', 'ad'}\n",
      "Y (paragraph):  {'ap', 'ag', 'ra', 'gr', 'ph', 'pa', 'ar'}\n",
      "union:  {'ap', 'di', 'ag', 'ra', 'is', 'se', 'gr', 'ph', 'pa', 'ar', 'ad'}\n",
      "intersection:  {'ap', 'ar', 'pa', 'ra'}\n",
      "differenct:  {'is', 'di', 'se', 'ad'}\n",
      "'se': esists in X?:  True\n",
      "'se': esists in Y?:  False\n"
     ]
    }
   ],
   "source": [
    "text1 = \"paraparaparadise\"\n",
    "text2 = \"paragraph\"\n",
    "X = set(get_ngram(text1))\n",
    "Y = set(get_ngram(text2))\n",
    "\n",
    "print(\"X (paraparaparadise): \", X)\n",
    "print(\"Y (paragraph): \", Y)\n",
    "print(\"union: \", X|Y)\n",
    "print(\"intersection: \", X&Y)\n",
    "print(\"differenct: \", X-Y)\n",
    "print(\"'se': esists in X?: \", \"se\" in X)\n",
    "print(\"'se': esists in Y?: \", \"se\" in Y)"
   ]
  },
  {
   "cell_type": "markdown",
   "metadata": {},
   "source": [
    "## 07. テンプレートによる文生成"
   ]
  },
  {
   "cell_type": "code",
   "execution_count": 8,
   "metadata": {},
   "outputs": [
    {
     "name": "stdout",
     "output_type": "stream",
     "text": [
      "12時の気温は22.4\n"
     ]
    }
   ],
   "source": [
    "def template(x, y, z):\n",
    "    return \"{}時の{}は{}\".format(x, y, z)\n",
    "\n",
    "print(template(x=12, y=\"気温\", z=22.4))"
   ]
  },
  {
   "cell_type": "markdown",
   "metadata": {},
   "source": [
    "## 08. 暗号文"
   ]
  },
  {
   "cell_type": "code",
   "execution_count": 9,
   "metadata": {},
   "outputs": [
    {
     "name": "stdout",
     "output_type": "stream",
     "text": [
      "Doctor Faustus Was a Good Man\n",
      "Dlxgli Fzfhgfh Wzh z Gllw Mzm\n",
      "Doctor Faustus Was a Good Man\n"
     ]
    }
   ],
   "source": [
    "def cipher(text):\n",
    "    charcodes = [ord(c) for c in text]\n",
    "    coded = \"\".join([\n",
    "        chr(219-c) if 97<=c<=122\n",
    "        else chr(c)\n",
    "        for c in charcodes\n",
    "    ])\n",
    "    return coded\n",
    "\n",
    "print(\"Doctor Faustus Was a Good Man\")\n",
    "print(cipher(\"Doctor Faustus Was a Good Man\"))\n",
    "print(cipher(cipher(\"Doctor Faustus Was a Good Man\")))"
   ]
  },
  {
   "cell_type": "markdown",
   "metadata": {},
   "source": [
    "## 09. TypoglycemiaPermalink"
   ]
  },
  {
   "cell_type": "code",
   "execution_count": 10,
   "metadata": {},
   "outputs": [
    {
     "name": "stdout",
     "output_type": "stream",
     "text": [
      "I couldn’t believe that I could actually understand what I was reading : the phenomenal power of the human mind .\n",
      "==============================\n",
      "I c’londut bevelie that I could actaully urtnnaedsd what I was rdnaeig : the phmonaneel pewor of the hamun mind .\n"
     ]
    }
   ],
   "source": [
    "import random\n",
    "def make_typoglycemia_sentence(split_text):\n",
    "    def shuffle_chars(word):\n",
    "        chars = list(word)\n",
    "        shuffle_part = random.sample(chars[1:-1], len(chars)-2)\n",
    "        chars = chars[:1] + shuffle_part + chars[-1:]\n",
    "        return \"\".join(chars)\n",
    "    \n",
    "    return [\n",
    "        shuffle_chars(word) if len(word) >= 5\n",
    "        else word\n",
    "        for word in split_text\n",
    "    ]\n",
    "\n",
    "text = \"I couldn’t believe that I could actually understand what I was reading : the phenomenal power of the human mind .\"\n",
    "print(text)\n",
    "print(\"=\"*30)\n",
    "print(\" \".join(make_typoglycemia_sentence(text.split())))"
   ]
  },
  {
   "cell_type": "code",
   "execution_count": null,
   "metadata": {},
   "outputs": [],
   "source": []
  }
 ],
 "metadata": {
  "kernelspec": {
   "display_name": "mainEnv",
   "language": "python",
   "name": "mainenv"
  },
  "language_info": {
   "codemirror_mode": {
    "name": "ipython",
    "version": 3
   },
   "file_extension": ".py",
   "mimetype": "text/x-python",
   "name": "python",
   "nbconvert_exporter": "python",
   "pygments_lexer": "ipython3",
   "version": "3.7.0"
  }
 },
 "nbformat": 4,
 "nbformat_minor": 2
}
